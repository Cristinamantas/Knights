{
 "cells": [
  {
   "cell_type": "code",
   "execution_count": 1,
   "id": "2427983f-d551-4ca9-a732-8a739189aefe",
   "metadata": {},
   "outputs": [],
   "source": [
    "import sympy "
   ]
  },
  {
   "cell_type": "code",
   "execution_count": 2,
   "id": "0c2976c3-1358-49be-b1cd-a6b9eddd6486",
   "metadata": {},
   "outputs": [],
   "source": [
    "import numpy "
   ]
  },
  {
   "cell_type": "code",
   "execution_count": 3,
   "id": "7294dff5-bb71-4526-9de6-6fe451879c8a",
   "metadata": {},
   "outputs": [],
   "source": [
    "import pandas as pd "
   ]
  },
  {
   "cell_type": "code",
   "execution_count": 4,
   "id": "046ffe12-9e47-4823-9fe9-1b175fc31204",
   "metadata": {},
   "outputs": [],
   "source": [
    "from sympy import symbols, Not, And, Or"
   ]
  },
  {
   "cell_type": "code",
   "execution_count": 5,
   "id": "b6670462-c422-4986-9312-ab7351393f7c",
   "metadata": {},
   "outputs": [],
   "source": [
    "from logic import*"
   ]
  },
  {
   "cell_type": "code",
   "execution_count": 6,
   "id": "9b51184c-adcf-48a2-92da-a9becad7032f",
   "metadata": {},
   "outputs": [
    {
     "name": "stdout",
     "output_type": "stream",
     "text": [
      "Test Symbol\n"
     ]
    }
   ],
   "source": [
    "test_symbol = Symbol(\"Test Symbol\")\n",
    "print(test_symbol)"
   ]
  },
  {
   "cell_type": "code",
   "execution_count": 7,
   "id": "bfcfe5ed-0042-446a-87e5-9140ef392306",
   "metadata": {},
   "outputs": [],
   "source": [
    "#Defining the symbols for Knights and Knaves "
   ]
  },
  {
   "cell_type": "code",
   "execution_count": 8,
   "id": "864af07b-a60c-4c69-be65-12d024d9b0b0",
   "metadata": {},
   "outputs": [],
   "source": [
    "AKnight = Symbol(\"A is a Knight\")\n",
    "AKnave = Symbol(\"A is a Knave\")\n",
    "BKnight = Symbol(\"B is a Knight\")\n",
    "BKnave = Symbol(\"B is a Knave\")\n",
    "CKnight = Symbol(\"C is a Knight\")\n",
    "CKnave = Symbol(\"C is a Knave\")"
   ]
  },
  {
   "cell_type": "code",
   "execution_count": null,
   "id": "f6498781-d077-4d65-86ac-1a39682f5715",
   "metadata": {},
   "outputs": [],
   "source": [
    "#Puzzle 0"
   ]
  },
  {
   "cell_type": "code",
   "execution_count": 9,
   "id": "45832370-cb44-4d8a-a8b5-8d7e3d36542a",
   "metadata": {},
   "outputs": [],
   "source": [
    "knowledge0 = And(\n",
    "  Not(And(AKnight, AKnave)),\n",
    "    Or(AKnight, AKnave)\n",
    ")"
   ]
  },
  {
   "cell_type": "code",
   "execution_count": 10,
   "id": "ad22b9d6-c9b8-46c4-a909-0dd9d1281f1c",
   "metadata": {},
   "outputs": [],
   "source": [
    "knowledge1 = And(\n",
    "    Or(AKnight, AKnave),  # A is either a knight or a knave\n",
    "    Or(BKnight, BKnave),  # B is either a knight or a knave\n",
    "    Implication(AKnight, And(AKnave, BKnave)),  # If A is a knight, both are knaves (contradiction)\n",
    "    Implication(AKnave, Not(And(AKnave, BKnave)))  # If A is a knave, then they can't both be knaves\n",
    ")"
   ]
  },
  {
   "cell_type": "code",
   "execution_count": 11,
   "id": "8611144f-4c6a-4c6e-bd75-f29c111e2ca9",
   "metadata": {},
   "outputs": [],
   "source": [
    "knowledge2 = And(\n",
    "    Or(AKnight, AKnave),  # A is either a knight or a knave\n",
    "    Or(BKnight, BKnave),  # B is either a knight or a knave\n",
    "    Implication(AKnight, BKnight),  # If A is a knight, then B is also a knight\n",
    "    Implication(AKnave, BKnave),  # If A is a knave, then B is also a knave\n",
    "    Implication(BKnight, AKnave),  # If B is a knight, then A is a knave\n",
    "    Implication(BKnave, AKnight)   # If B is a knave, then A is a knight\n",
    ")"
   ]
  },
  {
   "cell_type": "code",
   "execution_count": 12,
   "id": "5a53f53a-a75f-47a2-91c0-7eec14b1fe30",
   "metadata": {},
   "outputs": [],
   "source": [
    "knowledge3 = And(\n",
    "    Or(AKnight, AKnave),  # A is either a knight or a knave\n",
    "    Or(BKnight, BKnave),  # B is either a knight or a knave\n",
    "    Or(CKnight, CKnave),  # C is either a knight or a knave\n",
    "    Implication(AKnight, BKnight),  # If A is a knight, then B is telling the truth\n",
    "    Implication(AKnave, BKnight),  # If A is a knave, then B must be lying\n",
    "    Implication(BKnight, CKnight),  # If B is a knight, then C must be a knight\n",
    "    Implication(BKnave, CKnave),    # If B is a knave, then C must be a knave\n",
    "    Implication(CKnight, AKnight)    # If C is a knight, A must be a knight\n",
    ")"
   ]
  },
  {
   "cell_type": "code",
   "execution_count": 13,
   "id": "ee0fd828-0f96-465e-a82d-7546eb6d3524",
   "metadata": {},
   "outputs": [],
   "source": [
    "from logic import Symbol, And, Or, Not, Implication, model_check\n"
   ]
  },
  {
   "cell_type": "code",
   "execution_count": 14,
   "id": "cb82a864-30e8-41e9-a000-0e1f0b275c5d",
   "metadata": {},
   "outputs": [
    {
     "name": "stdout",
     "output_type": "stream",
     "text": [
      "Puzzle 0\n",
      "Puzzle 1\n",
      "    A is a Knave\n",
      "    B is a Knight\n",
      "Puzzle 2\n",
      "    A is a Knight\n",
      "    A is a Knave\n",
      "    B is a Knight\n",
      "    B is a Knave\n",
      "Puzzle 3\n",
      "    A is a Knight\n",
      "    B is a Knight\n",
      "    C is a Knight\n"
     ]
    }
   ],
   "source": [
    "def main():\n",
    "    symbols = [AKnight, AKnave, BKnight, BKnave, CKnight, CKnave]\n",
    "    puzzles = [\n",
    "        (\"Puzzle 0\", knowledge0),\n",
    "        (\"Puzzle 1\", knowledge1),\n",
    "        (\"Puzzle 2\", knowledge2),\n",
    "        (\"Puzzle 3\", knowledge3)\n",
    "    ]\n",
    "\n",
    "    for puzzle, knowledge in puzzles:\n",
    "        print(puzzle)\n",
    "        if len(knowledge.conjuncts) == 0:\n",
    "            print(\"    Not yet implemented.\")\n",
    "        else:\n",
    "            for symbol in symbols:\n",
    "                if model_check(knowledge, symbol):\n",
    "                    print(f\"    {symbol}\")\n",
    "\n",
    "if __name__ == \"__main__\":\n",
    "    main()"
   ]
  },
  {
   "cell_type": "code",
   "execution_count": null,
   "id": "7e183b5d-9f7f-4253-83ad-19f9415c5f42",
   "metadata": {},
   "outputs": [],
   "source": []
  }
 ],
 "metadata": {
  "kernelspec": {
   "display_name": "Python 3 (ipykernel)",
   "language": "python",
   "name": "python3"
  },
  "language_info": {
   "codemirror_mode": {
    "name": "ipython",
    "version": 3
   },
   "file_extension": ".py",
   "mimetype": "text/x-python",
   "name": "python",
   "nbconvert_exporter": "python",
   "pygments_lexer": "ipython3",
   "version": "3.11.7"
  }
 },
 "nbformat": 4,
 "nbformat_minor": 5
}
